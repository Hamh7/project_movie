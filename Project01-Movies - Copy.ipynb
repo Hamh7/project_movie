{
 "cells": [
  {
   "cell_type": "markdown",
   "metadata": {},
   "source": [
    "# Movie Data #"
   ]
  },
  {
   "cell_type": "markdown",
   "metadata": {},
   "source": [
    "You are the manager for a small local theater and you're considering which movies to show this month. You came across this data for *Guardians of the Galaxy Vol.2*."
   ]
  },
  {
   "cell_type": "code",
   "execution_count": 19,
   "metadata": {},
   "outputs": [],
   "source": [
    "movie = {\n",
    "    'Title': 'Guardians of the Galaxy Vol. 2',\n",
    "    'Year': '2017',\n",
    "    'Rated': 'PG-13',\n",
    "    'Released': '05 May 2017',\n",
    "    'Runtime': '136 min',\n",
    "    'Genre': 'Action, Adventure, Comedy, Sci-Fi',\n",
    "    'Director': 'James Gunn',\n",
    "    'Writer': 'James Gunn, Dan Abnett (based on the Marvel comics by), Andy Lanning (based on the Marvel comics by), Steve Englehart (Star-Lord created by), Steve Gan (Star-Lord created by), Jim Starlin (Gamora and Drax created by), Stan Lee (Groot created by), Larry Lieber (Groot created by), Jack Kirby (Groot created by), Bill Mantlo (Rocket Raccoon created by), Keith Giffen (Rocket Raccoon created by), Steve Gerber (Howard the Duck created by), Val Mayerik (Howard the Duck created by)',\n",
    "    'Actors': 'Chris Pratt, Zoe Saldana, Dave Bautista, Vin Diesel',\n",
    "    'Plot': \"The Guardians must fight to keep their newfound family together as they unravel the mystery of Peter Quill's true parentage.\",\n",
    "    'Language': 'English',\n",
    "    'Country': 'USA',\n",
    "    'Awards': 'Nominated for 1 Oscar. Another 12 wins & 42 nominations.',\n",
    "    'Poster': 'https://m.media-amazon.com/images/M/MV5BMTg2MzI1MTg3OF5BMl5BanBnXkFtZTgwNTU3NDA2MTI@._V1_SX300.jpg',\n",
    "    'Ratings':[ \n",
    "        {'Source': 'Internet Movie Database', 'Value': '7.7/10'},\n",
    "        {'Source': 'Rotten Tomatoes', 'Value': '83%'},\n",
    "        {'Source': 'Metacritic', 'Value': '67/100'}\n",
    "    ],\n",
    "    'Metascore': '67',\n",
    "    'imdbRating': '7.7',\n",
    "    'imdbVotes': '422,969',\n",
    "    'imdbID': 'tt3896198',\n",
    "    'Type': 'movie',\n",
    "    'DVD': '22 Aug 2017',\n",
    "    'BoxOffice': '$389',\n",
    "    'Production': 'Walt Disney Pictures',\n",
    "    'Website': 'https://marvel.com/guardians',\n",
    "    'Response': 'True'\n",
    "    }"
   ]
  },
  {
   "cell_type": "markdown",
   "metadata": {},
   "source": [
    "**Instructions:**\n",
    "\n",
    "To answer each question, insert a cell below it. Be sure to **show your work** and don't forget to save your progress! "
   ]
  },
  {
   "cell_type": "markdown",
   "metadata": {},
   "source": [
    "**Question 1:** What `datatype` is `movie`?\n",
    "\n",
    "\n",
    "### a variable \n"
   ]
  },
  {
   "cell_type": "markdown",
   "metadata": {},
   "source": [
    "**Question 2:** Grab the list `Ratings`, and print them."
   ]
  },
  {
   "cell_type": "code",
   "execution_count": 20,
   "metadata": {},
   "outputs": [
    {
     "name": "stdout",
     "output_type": "stream",
     "text": [
      "[{'Source': 'Internet Movie Database', 'Value': '7.7/10'}, {'Source': 'Rotten Tomatoes', 'Value': '83%'}, {'Source': 'Metacritic', 'Value': '67/100'}]\n"
     ]
    }
   ],
   "source": [
    "print(movie['Ratings'])"
   ]
  },
  {
   "cell_type": "markdown",
   "metadata": {},
   "source": [
    "**Question 3:** Just for fun, add your own rating to the list from question 2."
   ]
  },
  {
   "cell_type": "markdown",
   "metadata": {},
   "source": [
    "### I didn't watch it so i can't give it a rate lol"
   ]
  },
  {
   "cell_type": "markdown",
   "metadata": {},
   "source": [
    "**Question 4:** Delete some unnecessary datapoints from 'movie' like `DVD`. Save your edited version of 'movie' into a new variable and print it. "
   ]
  },
  {
   "cell_type": "code",
   "execution_count": 21,
   "metadata": {},
   "outputs": [
    {
     "name": "stdout",
     "output_type": "stream",
     "text": [
      "{'Title': 'Guardians of the Galaxy Vol. 2', 'Year': '2017', 'Rated': 'PG-13', 'Released': '05 May 2017', 'Runtime': '136 min', 'Genre': 'Action, Adventure, Comedy, Sci-Fi', 'Director': 'James Gunn', 'Writer': 'James Gunn, Dan Abnett (based on the Marvel comics by), Andy Lanning (based on the Marvel comics by), Steve Englehart (Star-Lord created by), Steve Gan (Star-Lord created by), Jim Starlin (Gamora and Drax created by), Stan Lee (Groot created by), Larry Lieber (Groot created by), Jack Kirby (Groot created by), Bill Mantlo (Rocket Raccoon created by), Keith Giffen (Rocket Raccoon created by), Steve Gerber (Howard the Duck created by), Val Mayerik (Howard the Duck created by)', 'Actors': 'Chris Pratt, Zoe Saldana, Dave Bautista, Vin Diesel', 'Plot': \"The Guardians must fight to keep their newfound family together as they unravel the mystery of Peter Quill's true parentage.\", 'Language': 'English', 'Country': 'USA', 'Awards': 'Nominated for 1 Oscar. Another 12 wins & 42 nominations.', 'Poster': 'https://m.media-amazon.com/images/M/MV5BMTg2MzI1MTg3OF5BMl5BanBnXkFtZTgwNTU3NDA2MTI@._V1_SX300.jpg', 'Ratings': [{'Source': 'Internet Movie Database', 'Value': '7.7/10'}, {'Source': 'Rotten Tomatoes', 'Value': '83%'}, {'Source': 'Metacritic', 'Value': '67/100'}], 'Metascore': '67', 'imdbRating': '7.7', 'imdbVotes': '422,969', 'imdbID': 'tt3896198', 'Type': 'movie', 'BoxOffice': '$389', 'Production': 'Walt Disney Pictures', 'Website': 'https://marvel.com/guardians', 'Response': 'True'}\n"
     ]
    }
   ],
   "source": [
    "del(movie['DVD'])\n",
    "new_data = movie\n",
    "print(new_data)"
   ]
  },
  {
   "cell_type": "markdown",
   "metadata": {},
   "source": [
    "**Question 5:** \n",
    "\n",
    "You now notice that the `BoxOffice` earnings look off. You google the figure and see that the one in `movie` is missing a lot of money! The correct figure is '389,804,217'. Update 'BoxOffice' to reflect the correct amount."
   ]
  },
  {
   "cell_type": "code",
   "execution_count": 22,
   "metadata": {},
   "outputs": [
    {
     "data": {
      "text/plain": [
       "{'Title': 'Guardians of the Galaxy Vol. 2',\n",
       " 'Year': '2017',\n",
       " 'Rated': 'PG-13',\n",
       " 'Released': '05 May 2017',\n",
       " 'Runtime': '136 min',\n",
       " 'Genre': 'Action, Adventure, Comedy, Sci-Fi',\n",
       " 'Director': 'James Gunn',\n",
       " 'Writer': 'James Gunn, Dan Abnett (based on the Marvel comics by), Andy Lanning (based on the Marvel comics by), Steve Englehart (Star-Lord created by), Steve Gan (Star-Lord created by), Jim Starlin (Gamora and Drax created by), Stan Lee (Groot created by), Larry Lieber (Groot created by), Jack Kirby (Groot created by), Bill Mantlo (Rocket Raccoon created by), Keith Giffen (Rocket Raccoon created by), Steve Gerber (Howard the Duck created by), Val Mayerik (Howard the Duck created by)',\n",
       " 'Actors': 'Chris Pratt, Zoe Saldana, Dave Bautista, Vin Diesel',\n",
       " 'Plot': \"The Guardians must fight to keep their newfound family together as they unravel the mystery of Peter Quill's true parentage.\",\n",
       " 'Language': 'English',\n",
       " 'Country': 'USA',\n",
       " 'Awards': 'Nominated for 1 Oscar. Another 12 wins & 42 nominations.',\n",
       " 'Poster': 'https://m.media-amazon.com/images/M/MV5BMTg2MzI1MTg3OF5BMl5BanBnXkFtZTgwNTU3NDA2MTI@._V1_SX300.jpg',\n",
       " 'Ratings': [{'Source': 'Internet Movie Database', 'Value': '7.7/10'},\n",
       "  {'Source': 'Rotten Tomatoes', 'Value': '83%'},\n",
       "  {'Source': 'Metacritic', 'Value': '67/100'}],\n",
       " 'Metascore': '67',\n",
       " 'imdbRating': '7.7',\n",
       " 'imdbVotes': '422,969',\n",
       " 'imdbID': 'tt3896198',\n",
       " 'Type': 'movie',\n",
       " 'BoxOffice': '389,804,217',\n",
       " 'Production': 'Walt Disney Pictures',\n",
       " 'Website': 'https://marvel.com/guardians',\n",
       " 'Response': 'True'}"
      ]
     },
     "execution_count": 22,
     "metadata": {},
     "output_type": "execute_result"
    }
   ],
   "source": [
    "#by using the update method which is dictonary.update() we will be able to do it \n",
    "\n",
    "movie.update(BoxOffice='389,804,217')\n",
    "movie"
   ]
  },
  {
   "cell_type": "markdown",
   "metadata": {},
   "source": [
    "**Question 6:** \n",
    "\n",
    "- Grab all the writers. What datatype is this?\n",
    "\n",
    "- Convert it properly into a list and assign it back to `Writer`.\n",
    "\n",
    "- Print each writer's name separately.\n"
   ]
  },
  {
   "cell_type": "code",
   "execution_count": 23,
   "metadata": {},
   "outputs": [
    {
     "name": "stdout",
     "output_type": "stream",
     "text": [
      "['James Gunn', ' Dan Abnett (based on the Marvel comics by)', ' Andy Lanning (based on the Marvel comics by)', ' Steve Englehart (Star-Lord created by)', ' Steve Gan (Star-Lord created by)', ' Jim Starlin (Gamora and Drax created by)', ' Stan Lee (Groot created by)', ' Larry Lieber (Groot created by)', ' Jack Kirby (Groot created by)', ' Bill Mantlo (Rocket Raccoon created by)', ' Keith Giffen (Rocket Raccoon created by)', ' Steve Gerber (Howard the Duck created by)', ' Val Mayerik (Howard the Duck created by)']\n"
     ]
    }
   ],
   "source": [
    "movie['Writer']\n",
    "#its all strings\n",
    "movie1 = movie['Writer'].split(',')\n",
    "movie.update(Writer=movie1)\n",
    "print(movie['Writer'])"
   ]
  },
  {
   "cell_type": "markdown",
   "metadata": {},
   "source": [
    "**Question 7** \n",
    "\n",
    "- Using your list from question 6, write a function that greets each writer.\n",
    "\n",
    "- You want to *SCREAM* the greeting. How would you do that in pyton?"
   ]
  },
  {
   "cell_type": "code",
   "execution_count": 24,
   "metadata": {},
   "outputs": [
    {
     "name": "stdout",
     "output_type": "stream",
     "text": [
      "GREETING ['James Gunn', ' Dan Abnett (based on the Marvel comics by)', ' Andy Lanning (based on the Marvel comics by)', ' Steve Englehart (Star-Lord created by)', ' Steve Gan (Star-Lord created by)', ' Jim Starlin (Gamora and Drax created by)', ' Stan Lee (Groot created by)', ' Larry Lieber (Groot created by)', ' Jack Kirby (Groot created by)', ' Bill Mantlo (Rocket Raccoon created by)', ' Keith Giffen (Rocket Raccoon created by)', ' Steve Gerber (Howard the Duck created by)', ' Val Mayerik (Howard the Duck created by)']\n"
     ]
    }
   ],
   "source": [
    "print('GREETING',movie['Writer'])"
   ]
  },
  {
   "cell_type": "markdown",
   "metadata": {},
   "source": [
    "**Question 8:** \n",
    "\n",
    "- Grab the genres. What datatype is this?\n",
    "\n",
    "- Convert it properly into a list and assign it back to `Genre`.\n"
   ]
  },
  {
   "cell_type": "code",
   "execution_count": 25,
   "metadata": {},
   "outputs": [],
   "source": [
    "movie['Genre']\n",
    "#it's string\n",
    "genre1 = movie['Genre'].split(',')\n",
    "movie.update(Genre=genre1)"
   ]
  },
  {
   "cell_type": "code",
   "execution_count": 26,
   "metadata": {},
   "outputs": [
    {
     "data": {
      "text/plain": [
       "{'Title': 'Guardians of the Galaxy Vol. 2',\n",
       " 'Year': '2017',\n",
       " 'Rated': 'PG-13',\n",
       " 'Released': '05 May 2017',\n",
       " 'Runtime': '136 min',\n",
       " 'Genre': ['Action', ' Adventure', ' Comedy', ' Sci-Fi'],\n",
       " 'Director': 'James Gunn',\n",
       " 'Writer': ['James Gunn',\n",
       "  ' Dan Abnett (based on the Marvel comics by)',\n",
       "  ' Andy Lanning (based on the Marvel comics by)',\n",
       "  ' Steve Englehart (Star-Lord created by)',\n",
       "  ' Steve Gan (Star-Lord created by)',\n",
       "  ' Jim Starlin (Gamora and Drax created by)',\n",
       "  ' Stan Lee (Groot created by)',\n",
       "  ' Larry Lieber (Groot created by)',\n",
       "  ' Jack Kirby (Groot created by)',\n",
       "  ' Bill Mantlo (Rocket Raccoon created by)',\n",
       "  ' Keith Giffen (Rocket Raccoon created by)',\n",
       "  ' Steve Gerber (Howard the Duck created by)',\n",
       "  ' Val Mayerik (Howard the Duck created by)'],\n",
       " 'Actors': 'Chris Pratt, Zoe Saldana, Dave Bautista, Vin Diesel',\n",
       " 'Plot': \"The Guardians must fight to keep their newfound family together as they unravel the mystery of Peter Quill's true parentage.\",\n",
       " 'Language': 'English',\n",
       " 'Country': 'USA',\n",
       " 'Awards': 'Nominated for 1 Oscar. Another 12 wins & 42 nominations.',\n",
       " 'Poster': 'https://m.media-amazon.com/images/M/MV5BMTg2MzI1MTg3OF5BMl5BanBnXkFtZTgwNTU3NDA2MTI@._V1_SX300.jpg',\n",
       " 'Ratings': [{'Source': 'Internet Movie Database', 'Value': '7.7/10'},\n",
       "  {'Source': 'Rotten Tomatoes', 'Value': '83%'},\n",
       "  {'Source': 'Metacritic', 'Value': '67/100'}],\n",
       " 'Metascore': '67',\n",
       " 'imdbRating': '7.7',\n",
       " 'imdbVotes': '422,969',\n",
       " 'imdbID': 'tt3896198',\n",
       " 'Type': 'movie',\n",
       " 'BoxOffice': '389,804,217',\n",
       " 'Production': 'Walt Disney Pictures',\n",
       " 'Website': 'https://marvel.com/guardians',\n",
       " 'Response': 'True'}"
      ]
     },
     "execution_count": 26,
     "metadata": {},
     "output_type": "execute_result"
    }
   ],
   "source": [
    "movie"
   ]
  }
 ],
 "metadata": {
  "kernelspec": {
   "display_name": "Python 3",
   "language": "python",
   "name": "python3"
  },
  "language_info": {
   "codemirror_mode": {
    "name": "ipython",
    "version": 3
   },
   "file_extension": ".py",
   "mimetype": "text/x-python",
   "name": "python",
   "nbconvert_exporter": "python",
   "pygments_lexer": "ipython3",
   "version": "3.8.5"
  }
 },
 "nbformat": 4,
 "nbformat_minor": 2
}
